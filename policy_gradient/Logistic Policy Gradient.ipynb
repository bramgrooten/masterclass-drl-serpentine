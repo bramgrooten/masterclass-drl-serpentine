{
 "cells": [
  {
   "cell_type": "code",
   "execution_count": 1,
   "metadata": {},
   "outputs": [],
   "source": [
    "import numpy as np"
   ]
  },
  {
   "cell_type": "code",
   "execution_count": 2,
   "metadata": {},
   "outputs": [],
   "source": [
    "class LogisticPolicy:\n",
    "    def __init__(self, θ, α, γ):\n",
    "        # Initialize paramters θ, learning rate α and discount factor γ\n",
    "\n",
    "        self.θ = θ\n",
    "        self.α = α\n",
    "        self.γ = γ\n",
    "\n",
    "    def logistic(self, y):\n",
    "        # definition of logistic function\n",
    "\n",
    "        return 1 / (1 + np.exp(-y))\n",
    "\n",
    "    def probs(self, x):\n",
    "        # returns probabilities of two actions\n",
    "\n",
    "        y = x @ self.θ\n",
    "        prob0 = self.logistic(y)\n",
    "\n",
    "        return np.array([prob0, 1 - prob0])\n",
    "\n",
    "    def act(self, x):\n",
    "        # sample an action in proportion to probabilities\n",
    "\n",
    "        probs = self.probs(x)\n",
    "        action = np.random.choice([0, 1], p=probs)\n",
    "\n",
    "        return action, probs[action]\n",
    "\n",
    "    def grad_log_p(self, x):\n",
    "        # calculate grad-log-probs\n",
    "\n",
    "        y = x @ self.θ\n",
    "        grad_log_p0 = x - x * self.logistic(y)\n",
    "        grad_log_p1 = -x * self.logistic(y)\n",
    "\n",
    "        return grad_log_p0, grad_log_p1\n",
    "\n",
    "    def grad_log_p_dot_rewards(self, grad_log_p, actions, discounted_rewards):\n",
    "        # dot grads with future rewards for each action in episode\n",
    "\n",
    "        return grad_log_p.T @ discounted_rewards\n",
    "\n",
    "    def discount_rewards(self, rewards):\n",
    "        # calculate temporally adjusted, discounted rewards\n",
    "\n",
    "        discounted_rewards = np.zeros(len(rewards))\n",
    "        cumulative_rewards = 0\n",
    "        for i in reversed(range(0, len(rewards))):\n",
    "            cumulative_rewards = cumulative_rewards * self.γ + rewards[i]\n",
    "            discounted_rewards[i] = cumulative_rewards\n",
    "\n",
    "        return discounted_rewards\n",
    "\n",
    "    def update(self, rewards, obs, actions):\n",
    "        # calculate gradients for each action over all observations\n",
    "        grad_log_p = np.array(\n",
    "            [self.grad_log_p(ob)[action] for ob, action in zip(obs, actions)]\n",
    "        )\n",
    "\n",
    "        assert grad_log_p.shape == (len(obs), 4)\n",
    "\n",
    "        # calculate temporaly adjusted, discounted rewards\n",
    "        discounted_rewards = self.discount_rewards(rewards)\n",
    "\n",
    "        # gradients times rewards\n",
    "        dot = self.grad_log_p_dot_rewards(grad_log_p, actions, discounted_rewards)\n",
    "\n",
    "        # gradient ascent on parameters\n",
    "        self.θ += self.α * dot"
   ]
  },
  {
   "cell_type": "code",
   "execution_count": 3,
   "metadata": {},
   "outputs": [],
   "source": [
    "def run_episode(env, policy, render=False):\n",
    "\n",
    "    observation = env.reset()\n",
    "    totalreward = 0\n",
    "\n",
    "    observations = []\n",
    "    actions = []\n",
    "    rewards = []\n",
    "    probs = []\n",
    "\n",
    "    done = False\n",
    "\n",
    "    while not done:\n",
    "        if render:\n",
    "            env.render()\n",
    "\n",
    "        observations.append(observation)\n",
    "\n",
    "        action, prob = policy.act(observation)\n",
    "        observation, reward, done, info = env.step(action)\n",
    "\n",
    "        totalreward += reward\n",
    "        rewards.append(reward)\n",
    "        actions.append(action)\n",
    "        probs.append(prob)\n",
    "\n",
    "    return totalreward, np.array(rewards), np.array(observations), np.array(actions), np.array(probs)"
   ]
  },
  {
   "cell_type": "code",
   "execution_count": 4,
   "metadata": {
    "scrolled": true
   },
   "outputs": [
    {
     "name": "stdout",
     "output_type": "stream",
     "text": [
      "EP: 1999 Score: 200.0 \r"
     ]
    },
    {
     "data": {
      "image/png": "[encoded data removed]",
      "text/plain": [
       "<Figure size 432x288 with 1 Axes>"
      ]
     },
     "metadata": {
      "needs_background": "light"
     },
     "output_type": "display_data"
    }
   ],
   "source": [
    "def train(θ, α, γ, Policy, MAX_EPISODES=1000, seed=None, evaluate=False):\n",
    "\n",
    "    # initialize environment and policy\n",
    "    env = gym.make('CartPole-v0')\n",
    "    if seed is not None:\n",
    "        env.seed(seed)\n",
    "    episode_rewards = []\n",
    "    policy = Policy(θ, α, γ)\n",
    "\n",
    "    # train until MAX_EPISODES\n",
    "    import time\n",
    "    for i in range(MAX_EPISODES):\n",
    "        # run a single episode\n",
    "        total_reward, rewards, observations, actions, probs = run_episode(env, policy)\n",
    "\n",
    "        # keep track of episode rewards\n",
    "        episode_rewards.append(total_reward)\n",
    "\n",
    "        # update policy\n",
    "        policy.update(rewards, observations, actions)\n",
    "        print(\"EP: \" + str(i) + \" Score: \" + str(total_reward) + \" \",end=\"\\r\", flush=False)\n",
    "\n",
    "    # evaluation call after training is finished - evaluate last trained policy on 100 episodes\n",
    "    if evaluate:\n",
    "        env = Monitor(env, 'pg_cartpole/', video_callable=False, force=True)\n",
    "        for _ in range(100):\n",
    "            run_episode(env, policy, render=False)\n",
    "        env.env.close()\n",
    "\n",
    "    return episode_rewards, policy\n",
    "\n",
    "\n",
    "# additional imports for saving and loading a trained policy\n",
    "import gym\n",
    "import gym.wrappers\n",
    "from gym.wrappers.monitor import Monitor, load_results\n",
    "\n",
    "# for reproducibility\n",
    "GLOBAL_SEED = 0\n",
    "np.random.seed(GLOBAL_SEED)\n",
    "\n",
    "episode_rewards, policy = train(θ=np.random.rand(4),\n",
    "                                α=0.002,\n",
    "                                γ=0.99,\n",
    "                                Policy=LogisticPolicy,\n",
    "                                MAX_EPISODES=2000,\n",
    "                                seed=GLOBAL_SEED,\n",
    "                                evaluate=False)\n",
    "\n",
    "import matplotlib.pyplot as plt\n",
    "plt.plot(episode_rewards)\n",
    "plt.show()"
   ]
  },
  {
   "cell_type": "code",
   "execution_count": null,
   "metadata": {},
   "outputs": [],
   "source": [
    "# Reinforce"
   ]
  },
  {
   "cell_type": "code",
   "execution_count": 8,
   "metadata": {},
   "outputs": [
    {
     "name": "stdout",
     "output_type": "stream",
     "text": [
      "EP: 1999 Score: 200.0         \r"
     ]
    }
   ],
   "source": [
    "import gym\n",
    "import numpy as np\n",
    "import matplotlib.pyplot as plt\n",
    "import copy \n",
    "\n",
    "#Hyperparameters\n",
    "NUM_EPISODES = 2000\n",
    "LEARNING_RATE = 0.002\n",
    "GAMMA = 0.99\n",
    "\n",
    "# Create gym and seed numpy\n",
    "env = gym.make('CartPole-v0')\n",
    "nA = env.action_space.n\n",
    "np.random.seed(1)\n",
    "\n",
    "# Init weight\n",
    "w = np.random.rand(4, 2)\n",
    "\n",
    "# Keep stats for final print of graph\n",
    "episode_rewards = []\n",
    "\n",
    "# Our policy that maps state to action parameterized by w\n",
    "def policy(state,w):\n",
    "\tz = state.dot(w)\n",
    "\texp = np.exp(z)\n",
    "\treturn exp/np.sum(exp)\n",
    "\n",
    "# Vectorized softmax Jacobian\n",
    "def softmax_grad(softmax):\n",
    "    s = softmax.reshape(-1,1)\n",
    "    return np.diagflat(s) - np.dot(s, s.T)\n",
    "\n",
    "# Main loop \n",
    "# Make sure you update your weights AFTER each episode\n",
    "for e in range(NUM_EPISODES):\n",
    "\n",
    "\tstate = env.reset()[None,:]\n",
    "\n",
    "\tgrads = []\t\n",
    "\trewards = []\n",
    "\n",
    "\t# Keep track of game score to print\n",
    "\tscore = 0\n",
    "\n",
    "\twhile True:\n",
    "\n",
    "\t\t# Uncomment to see your model train in real time (slower)\n",
    "\t\t#env.render()\n",
    "\n",
    "\t\t# Sample from policy and take action in environment\n",
    "\t\tprobs = policy(state,w)\n",
    "\t\taction = np.random.choice(nA,p=probs[0])\n",
    "\t\tnext_state,reward,done,_ = env.step(action)\n",
    "\t\tnext_state = next_state[None,:]\n",
    "\n",
    "\t\t# Compute gradient and save with reward in memory for our weight updates\n",
    "\t\tdsoftmax = softmax_grad(probs)[action,:]\n",
    "\t\tdlog = dsoftmax / probs[0,action]\n",
    "\t\tgrad = state.T.dot(dlog[None,:])\n",
    "\n",
    "\t\tgrads.append(grad)\n",
    "\t\trewards.append(reward)\t\t\n",
    "\n",
    "\t\tscore+=reward\n",
    "\n",
    "\t\t# Dont forget to update your old state to the new state\n",
    "\t\tstate = next_state\n",
    "\n",
    "\t\tif done:\n",
    "\t\t\tbreak\n",
    "\n",
    "\t# Weight update\n",
    "\tfor i in range(len(grads)):\n",
    "\n",
    "\t\t# Loop through everything that happend in the episode and update towards the log policy gradient times **FUTURE** reward\n",
    "\t\tw += LEARNING_RATE * grads[i] * sum([ r * (GAMMA ** r) for t,r in enumerate(rewards[i:])])\n",
    "\t\n",
    "\t# Append for logging and print\n",
    "\tepisode_rewards.append(score) \n",
    "\tprint(\"EP: \" + str(e) + \" Score: \" + str(score) + \"         \",end=\"\\r\", flush=False) "
   ]
  },
  {
   "cell_type": "code",
   "execution_count": 9,
   "metadata": {},
   "outputs": [
    {
     "data": {
      "image/png": "[encoded data removed]",
      "text/plain": [
       "<Figure size 432x288 with 1 Axes>"
      ]
     },
     "metadata": {
      "needs_background": "light"
     },
     "output_type": "display_data"
    }
   ],
   "source": [
    "plt.plot(np.arange(NUM_EPISODES),episode_rewards)\n",
    "plt.show()\n",
    "env.close()"
   ]
  },
  {
   "cell_type": "code",
   "execution_count": null,
   "metadata": {},
   "outputs": [],
   "source": []
  }
 ],
 "metadata": {
  "kernelspec": {
   "display_name": "Python 3",
   "language": "python",
   "name": "python3"
  },
  "language_info": {
   "codemirror_mode": {
    "name": "ipython",
    "version": 3
   },
   "file_extension": ".py",
   "mimetype": "text/x-python",
   "name": "python",
   "nbconvert_exporter": "python",
   "pygments_lexer": "ipython3",
   "version": "3.8.5"
  }
 },
 "nbformat": 4,
 "nbformat_minor": 1
}
