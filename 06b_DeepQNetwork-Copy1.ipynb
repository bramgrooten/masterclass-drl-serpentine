{
 "cells": [
  {
   "cell_type": "markdown",
   "metadata": {},
   "source": [
    "<div align=\"center\">\n",
    "<a href=\"https://vbti.nl\"><img src=\"./images/vbti_logo.png\" width=\"400\"></a>\n",
    "</div>"
   ]
  },
  {
   "cell_type": "code",
   "execution_count": 3,
   "metadata": {
    "ExecuteTime": {
     "end_time": "2020-05-28T14:58:53.945251Z",
     "start_time": "2020-05-28T14:58:53.870607Z"
    },
    "scrolled": true
   },
   "outputs": [
    {
     "name": "stdout",
     "output_type": "stream",
     "text": [
      "Loaded numpy as np, pandas as pd, matplotlib as plt, seaborn as sns and tensorflow as tf.\n"
     ]
    }
   ],
   "source": [
    "# load some default libraries\n",
    "%run default_setup.py\n",
    "%matplotlib inline\n",
    "\n",
    "%load_ext autoreload\n",
    "%autoreload 2"
   ]
  },
  {
   "cell_type": "markdown",
   "metadata": {},
   "source": [
    "# Deep Q-Network <a href=\"https://www.cs.toronto.edu/~vmnih/docs/dqn.pdf\">[paper]</a>\n",
    "\n",
    "In the previous chapter the Q-learning algorithm in tabular form was extended to problems with continuous states via (state/action) value function approximation. By using a linear function approximation, it was shown in [1] that the algorithm converges.\n",
    "\n",
    "In some situations, using linear function approximation of the value function is not sufficient. For instance, when using RL to play Atari games, the state consists of screen frames. An Atari screen frame is an image of size 210x160 with RGB pixels. The total number of possible single frames is $(210 * 160)^{255}$. Obviously, this number of states cannot be stored as a value function in table form. \n",
    "\n",
    "Recently, convolutional neural networks have been shown to be very effective in processing images. A CNN is, just like any other neural network, a non-linear function approximator. By combining CNN's with RL an algorithm is derived called **Deep Q-Network** that can be used to solve playing Atari games.\n",
    "\n",
    "<img src=\"images/dqn_alg.png\" width=600 />\n",
    "<center> DQN algorithm from original <a href=\"https://www.cs.toronto.edu/~vmnih/docs/dqn.pdf\">[paper]</a></center>\n",
    "\n",
    "As you can see wee need to implement couple of things.\n",
    "1. Neural Network\n",
    "2. Epsilon Greedy agent that will use the Network for exploitation phase\n",
    "3. Experience Replay for training the network\n",
    "4. Input Preprocessing (which is not in the algorithm but it is very important)\n",
    "\n",
    "First we will define how to preprocess frames from the gym environment. Then we will define the neural network architecture and its training procedure. Then we implement Experience Replay and then we move to the functionality of the agent. Full implementation is located in ```dqn``` python package. Here we present only the snippets of code alongside with the explanation."
   ]
  },
  {
   "cell_type": "markdown",
   "metadata": {},
   "source": [
    "## Frame Preprocessing\n",
    "The DQN will use the Atari screen frame as state. However, from a single frame the velocity of objects cannot be estimated. In [chapter 3](03_FiniteMarkovDecisionProcess.ipynb) is was mentioned that in the RL framework the environment is modeled as a Markov Decision Process. One requirement for a proper working of the RL algorithm is that the current state contains all the information that is needed to predict the next state this is usually referred to as Markovian Property. While several mechanisms can be applied to add velocity information to the Atari state, in this notebook we will use a stack of (4) frames as state. The CNN should now be able to derive the velocity itself.\n",
    "\n",
    "To make the learning more efficient, we remove 'unused' information from the stacked frames. That is, probably the color information is not essential to the learning, as is using the whole frame. Therefore, every frame is converted to gray scale and cropped to 84x84 size."
   ]
  },
  {
   "cell_type": "code",
   "execution_count": 8,
   "metadata": {
    "ExecuteTime": {
     "end_time": "2020-06-11T11:31:27.271470Z",
     "start_time": "2020-06-11T11:31:27.146680Z"
    }
   },
   "outputs": [
    {
     "name": "stdout",
     "output_type": "stream",
     "text": [
      "Original state shape Box(210, 160, 3)\n",
      "Preprocessed state shape Box(84, 84)\n",
      "Stacked state shape Box(84, 84, 4)\n"
     ]
    }
   ],
   "source": [
    "from env_wrappers import AtariPreprocessing, AtariFrameStack\n",
    "import matplotlib.pyplot as plt\n",
    "\n",
    "import gym\n",
    "\n",
    "\n",
    "env = gym.make('PongNoFrameskip-v0')\n",
    "print('Original state shape', env.observation_space)\n",
    "env_preprocessed = AtariPreprocessing(env, frame_skip=4)\n",
    "print('Preprocessed state shape', env_preprocessed.observation_space)\n",
    "env_stacked = AtariFrameStack(env, frame_skip=4)\n",
    "print('Stacked state shape', env_stacked.observation_space)"
   ]
  },
  {
   "cell_type": "code",
   "execution_count": 11,
   "metadata": {
    "ExecuteTime": {
     "end_time": "2020-06-11T11:32:42.332820Z",
     "start_time": "2020-06-11T11:32:41.936613Z"
    },
    "scrolled": false
   },
   "outputs": [
    {
     "data": {
      "image/png": "[encoded data removed]",
      "text/plain": [
       "<Figure size 1440x1440 with 4 Axes>"
      ]
     },
     "metadata": {
      "needs_background": "light"
     },
     "output_type": "display_data"
    }
   ],
   "source": [
    "def plot_stack(frame_stack):\n",
    "    num_frames = frame_stack.shape[-1]\n",
    "    fig, ax = plt.subplots(1, num_frames, figsize=(20, 20), )\n",
    "    for i in range(num_frames):\n",
    "        ax.flat[i].imshow(frame_stack[..., i], cmap='gray')\n",
    "        ax.flat[i].grid(False)\n",
    "    plt.show()\n",
    "    \n",
    "\n",
    "state = env_stacked.reset()\n",
    "for i in range(20):\n",
    "    state, _, _, _ = env_stacked.step(env.action_space.sample())\n",
    "plot_stack(state)"
   ]
  },
  {
   "cell_type": "markdown",
   "metadata": {},
   "source": [
    "The plot above is the visualization of what the agent perceives as state. The leftmost is the the oldest frame in the stack and it is going away as soon as new observation is obtained (therefore we can derive that the ball is moving to the left). Since we had concatenated the frames on the channel dimension, the frame-stack can be used an input to the Convolution Neural Network. "
   ]
  },
  {
   "cell_type": "markdown",
   "metadata": {},
   "source": [
    "## Network architecture\n",
    "Convolutional Neural Networks are very suitable for processing high dimensional image data. For this task a simple feed forward architecture with three convolutional layers will do the job. \n",
    "\n",
    "<div align=\"center\">\n",
    "<img src=\"./images/DQN_Atari.png\" width=\"800\">\n",
    "</div>\n",
    "\n",
    "Also, instead of estimating $\\hat{Q}(s,a|\\textbf{w})$ the CNN outputs a q-value for every action, that is $\\hat{Q}_{action_i}(s|\\textbf{w})$. Hence, the CNN is a multi-output CNN. While fundamentally nothing changes, it is a more efficient way of implementing the algorithm.\n",
    "\n",
    "\n",
    "```python\n",
    "\n",
    "def create_model(self, model_name):\n",
    "    input_state = tf.keras.Input(shape=self.state_shape,\n",
    "                                 batch_size=None,\n",
    "                                 name='state_input',\n",
    "                                 dtype=tf.uint8)\n",
    "\n",
    "    x = tf.divide(tf.cast(input_state, dtype=tf.float32), tf.constant(255., dtype=tf.float32))\n",
    "\n",
    "    x = Conv2D(16, kernel_size=(8, 8), strides=(4, 4),\n",
    "               padding='valid', activation='relu', name='conv1')(x)\n",
    "    x = Conv2D(32, kernel_size=(4, 4), strides=(2, 2),\n",
    "               padding='valid', activation='relu', name='conv2')(x)\n",
    "    x = Conv2D(32, kernel_size=(3, 3), strides=(1, 1),\n",
    "               padding='valid', activation='relu', name='conv3')(x)\n",
    "\n",
    "    x = Flatten()(x)\n",
    "\n",
    "    x = Dense(512, activation='tanh', name='hidden_dense_value')(x)\n",
    "\n",
    "    q_values = Dense(self.n_actions, activation='linear', name='value_output')(x)\n",
    "\n",
    "    q_network = Model(inputs=[input_state], outputs=[q_values], name=model_name)\n",
    "    return q_network\n",
    "\n",
    "```"
   ]
  },
  {
   "cell_type": "markdown",
   "metadata": {
    "ExecuteTime": {
     "end_time": "2020-05-24T21:24:12.247680Z",
     "start_time": "2020-05-24T21:24:12.217071Z"
    }
   },
   "source": [
    "We will assign this model to our DeepQNetwork class as a property.\n",
    "```python\n",
    "class DeepQNetwork:\n",
    "    def __init__(self, state_shape, n_actions, learning_rate=1e-4, gamma=0.99):\n",
    "        self.n_actions = n_actions\n",
    "        self.state_shape = state_shape\n",
    "\n",
    "        self.online_network = self.create_model('dqn')\n",
    "\n",
    "```\n",
    "We can now define a couple of methods that would allow us to train and query the network.\n",
    "    \n",
    "Exploit the best option $argmax_a Q(s, a; \\theta)$\n",
    "```python\n",
    "@tf.function\n",
    "def get_best_action(self, state):\n",
    "    return tf.argmax(self.online_network(state), axis=1)\n",
    "```\n",
    "Get maximum q-values from given state $max_a Q(s, a; \\theta)$\n",
    "```python\n",
    "@tf.function\n",
    "def get_best_action_value(self, state):\n",
    "    return tf.reduce_max(self.online_network(state), axis=1)\n",
    "```"
   ]
  },
  {
   "cell_type": "markdown",
   "metadata": {},
   "source": [
    "For the network to be properly defined, we need to specify how the network is going to be trained. For training the network we are going to defined one training operation, i.e. gradient descent for one batch of transition data sampled from replay buffer. Steps in this method:\n",
    "- Calculate the target\n",
    "$$y=r+\\gamma \\max_{a'}Q(s',a';\\theta)$$\n",
    "- Calculate the loss\n",
    "$$L(\\theta) = \\mathbb{E}[(y - Q(s,a;\\theta)^2)]$$\n",
    "- Perform gradient descent\n",
    "$$\\nabla_{\\theta}L(\\theta) = \\mathbb{E}\\left[(r + y - Q(s, a; \\theta))\\nabla_{\\theta}Q(s, a;\\theta)\\right]$$"
   ]
  },
  {
   "cell_type": "markdown",
   "metadata": {},
   "source": [
    "```python\n",
    "    @tf.function\n",
    "    def train_op(self, replay_state, replay_action, replay_rewards, replay_next_state, terminal):\n",
    "        replay_continues = 1.0 - terminal\n",
    "        # max_a` Q(s`, a`)\n",
    "        q_best_next = self.get_best_action_value(replay_next_state)\n",
    "        # calculate target, if episode is over do not add next q-values to the target\n",
    "#         y_i = r + gamma * max_a` Q(s`, a`)\n",
    "        y_val = replay_rewards + replay_continues * self.gamma * q_best_next\n",
    "        with tf.GradientTape() as tape:\n",
    "            # calculate current q-values\n",
    "            q_values = self.online_network(replay_state)\n",
    "            # get the q-values of the executed actions\n",
    "            q_values_masked = tf.reduce_sum(q_values * tf.one_hot(replay_action, self.n_actions), axis=1, keepdims=True)\n",
    "            # calculate loss\n",
    "            loss = self.loss_layer(q_values_masked, y_val)\n",
    "        # compute gradients\n",
    "        gradients = tape.gradient(loss, self.online_network.trainable_variables)\n",
    "        # apply gradients\n",
    "        self.optimizer.apply_gradients(zip(gradients, self.online_network.trainable_variables))\n",
    "        return loss\n",
    "\n",
    "```"
   ]
  },
  {
   "cell_type": "markdown",
   "metadata": {},
   "source": [
    "## Replay Memory"
   ]
  },
  {
   "cell_type": "markdown",
   "metadata": {},
   "source": [
    "We might be tempted to perform gradient update every time we have a new batch of observations ready. However, the several consequent observations are dependent on each other. This correlation breaks the qualification for stochastic gradient descent, since one of the assumption is that the batch data is i.i.d. sample from a certain distribution. In order to break this correlation we are going to use Experience Replay. First we collect the experiences in a buffer, then we sample a batch from it and perform a gradient update. We also include 3 of the most recent observations in the sample to make sure that the training is performed on each of the observations at least once. It is very convenient and fast to use a ```collections.deque``` for this. This standard Python data-structure can maintain fixed length by removing the oldest elements when the capacity is reached."
   ]
  },
  {
   "cell_type": "markdown",
   "metadata": {
    "ExecuteTime": {
     "end_time": "2020-05-16T14:38:12.263333Z",
     "start_time": "2020-05-16T14:38:12.233654Z"
    }
   },
   "source": [
    "```python\n",
    "from collections import deque\n",
    "\n",
    "class ReplayBuffer:\n",
    "    def __init__(self, replay_capacity=50000, include_last_samples=3):\n",
    "        self.include_last = include_last_samples\n",
    "        self._buffer = deque(maxlen=replay_capacity)\n",
    "\n",
    "    def store(self, transition):\n",
    "        self._buffer.appendleft(transition)\n",
    "\n",
    "    def sample_batch(self, batch_size):\n",
    "        batch = random.sample(self._buffer, batch_size)\n",
    "        for i in range(self.include_last):\n",
    "            batch[i] = self._buffer[i]\n",
    "        return self._batch_to_arrays(batch)\n",
    "```"
   ]
  },
  {
   "cell_type": "markdown",
   "metadata": {},
   "source": [
    "## Agent and Exploration\n",
    "First we define an interface for an agent. ```compute_action``` would return the next action given state. ```update``` is used for agent training. And if we were recording any statistic during the episode we would return it in ```finalize_episode```.\n",
    "\n",
    "```python\n",
    "class Agent:\n",
    "    \"\"\"\n",
    "    Interface for the agent class\n",
    "    \"\"\"\n",
    "\n",
    "    def compute_action(self, state):\n",
    "        ...\n",
    "\n",
    "    def update(self, *args, **kwargs):\n",
    "        ...\n",
    "\n",
    "    def finalize_episode(self, *args, **kwargs):\n",
    "        ...\n",
    "```\n",
    "We can easily extend this class to implement RandomAgent.\n",
    "\n",
    "```python\n",
    "class RandomAgent(Agent):\n",
    "\n",
    "def __init__(self, n_actions):\n",
    "    self.n_actions = n_actions\n",
    "\n",
    "def compute_action(self, state):\n",
    "    return random.randrange(self.n_actions)\n",
    "```\n",
    "\n",
    "In order to bind everything together we are going to assign a network and replay buffer to the ```EpsilonGreedyAgent``` class. Lets have a look at its main methods.\n",
    "\n",
    "```python\n",
    "class EpsilonGreedyAgent:\n",
    "    def __init__(self, n_actions, network):\n",
    "        super().__init__(n_actions)\n",
    "        self.network = network\n",
    "        self.replay_buffer = ReplayBuffer(replay_capacity)\n",
    "```"
   ]
  },
  {
   "cell_type": "markdown",
   "metadata": {
    "ExecuteTime": {
     "end_time": "2020-05-16T14:38:12.930264Z",
     "start_time": "2020-05-16T14:38:12.893472Z"
    }
   },
   "source": [
    "Now we defined function for computing next state. For this we use our current epsilon value, where 1.0 means only exploration and 0.0 is only exploitation.\n",
    "```python\n",
    "    def compute_action(self, state):\n",
    "\n",
    "        if np.random.rand() < self.epsilon:\n",
    "            return super().compute_action(state)\n",
    "        else:\n",
    "            action = self.network.get_best_action(state)\n",
    "            return action\n",
    "```\n",
    "We are going to anneal the epsilon value from 1.0 to 0.02 with this formula.\n",
    "$$\\epsilon = \\epsilon_{min} + (\\epsilon_{max} - \\epsilon_{min}) * exp(-\\epsilon_{decay} * t)$$, where $t$ is the current timestep. In most of the papers the training lasts until 200 million frames. Pong, however is a bit easier game, so we don't need to explore for too long. We are going to train for approx. 5 million frames, therefore $\\epsilon_{decay}$ should be $10^{-6}$ to make sure that the agent explores actively for at least half of that time. We can see the exploration value on the plot bellow."
   ]
  },
  {
   "cell_type": "code",
   "execution_count": 31,
   "metadata": {
    "ExecuteTime": {
     "end_time": "2020-05-28T10:17:45.551321Z",
     "start_time": "2020-05-28T10:17:45.237962Z"
    },
    "scrolled": true
   },
   "outputs": [
    {
     "data": {
      "image/png": "[encoded data removed]",
      "text/plain": [
       "<Figure size 432x288 with 1 Axes>"
      ]
     },
     "metadata": {
      "needs_background": "light"
     },
     "output_type": "display_data"
    }
   ],
   "source": [
    "import math\n",
    "import numpy as np\n",
    "import seaborn as sns\n",
    "import matplotlib.pyplot as plt\n",
    "\n",
    "def update_epsilon(time_step, min_epsilon, max_epsilon, epsilon_decay):\n",
    "\n",
    "    epsilon = min_epsilon + \\\n",
    "                   (max_epsilon - min_epsilon) \\\n",
    "                   * math.exp(-epsilon_decay * time_step)\n",
    "    return epsilon\n",
    "\n",
    "# These values will nicely decrease epsilon value to 0.02 within a million timesteps.\n",
    "# For games harder even smaller epsilon decay values are used.\n",
    "start_epsilon = 1.0\n",
    "end_epsilon = 0.02\n",
    "epsilon_decay = 1e-6\n",
    "\n",
    "total_timesteps = 5e6\n",
    "\n",
    "timesteps = np.linspace(0, 5e6, 1000)\n",
    "epsilon_values = [update_epsilon(t, end_epsilon, start_epsilon, epsilon_decay) for t in timesteps]\n",
    "ax = sns.lineplot(timesteps, epsilon_values)\n",
    "ax.set(xlabel='timesteps', ylabel='epsilon')\n",
    "plt.title('Annealing of epsilon value')\n",
    "plt.show()"
   ]
  },
  {
   "cell_type": "markdown",
   "metadata": {
    "ExecuteTime": {
     "end_time": "2020-05-14T14:10:07.923154Z",
     "start_time": "2020-05-14T14:10:07.891187Z"
    }
   },
   "source": [
    "## Training"
   ]
  },
  {
   "cell_type": "code",
   "execution_count": 4,
   "metadata": {
    "ExecuteTime": {
     "end_time": "2020-05-28T15:00:26.939859Z",
     "start_time": "2020-05-28T15:00:26.565242Z"
    }
   },
   "outputs": [
    {
     "name": "stdout",
     "output_type": "stream",
     "text": [
      "Observation space: Box(84, 84, 4)\n",
      "Action space: Discrete(6)\n"
     ]
    }
   ],
   "source": [
    "import gym\n",
    "from env_wrappers import AtariFrameStack\n",
    "from dqn import DeepQNetwork, EpsilonGreedyAgent\n",
    "from os.path import join\n",
    "\n",
    "EXPERIMENT_FOLDER = 'Experiments/pong_dqn_01'\n",
    "video_folder = join(EXPERIMENT_FOLDER, 'video')\n",
    "save_interval = 100\n",
    "\n",
    "env = AtariFrameStack(gym.make('PongNoFrameskip-v4'),\n",
    "                      frame_skip=4,\n",
    "                      terminal_on_life_loss=False,\n",
    "                      screen_size=84,\n",
    "                      stack_size=4,\n",
    "                      skip_init=1)\n",
    "from gym.wrappers import monitor\n",
    "env = gym.wrappers.Monitor(env, video_folder, force=True,\n",
    "                          video_callable=lambda episode_id: episode_id % save_interval == 0)\n",
    "        \n",
    "print('Observation space:', env.observation_space)\n",
    "print('Action space:', env.action_space)\n",
    "\n",
    "q_network = DeepQNetwork(state_shape=env.observation_space.shape,\n",
    "                         n_actions=env.action_space.n,\n",
    "                         learning_rate=6.25e-5,\n",
    "                         gamma=0.99)\n",
    "\n",
    "agent = EpsilonGreedyAgent(n_actions=env.action_space.n,\n",
    "                   network=q_network,\n",
    "                   replay_capacity=50000,\n",
    "                   gamma=0.99,  # discount of future rewards\n",
    "                   training_start=10000,  # start training after x number of steps\n",
    "                   training_interval=4,  # train every x steps\n",
    "                   batch_size=32,\n",
    "                   start_epsilon=1.0,\n",
    "                   end_epsilon=0.02,\n",
    "                   epsilon_decay=1e-6,\n",
    "                   root_folder=EXPERIMENT_FOLDER,\n",
    "                   save_best=True,\n",
    "                   save_interval=save_interval)\n",
    "\n",
    "# Define history object to hold all statistics. Usefull if you want to continue training\n",
    "history = {}"
   ]
  },
  {
   "cell_type": "code",
   "execution_count": null,
   "metadata": {
    "ExecuteTime": {
     "end_time": "2020-05-25T16:00:07.862753Z",
     "start_time": "2020-05-25T11:51:05.921829Z"
    },
    "scrolled": false
   },
   "outputs": [],
   "source": [
    "# Cell to train the agent. If you want to load the weights, skip this cell.\n",
    "from dqn import run_experiment\n",
    "\n",
    "run_experiment(env, agent, runs=2500, history=history,\n",
    "               plot_stats=[\n",
    "                   'score',\n",
    "                   'return',\n",
    "                   'steps_per_game',\n",
    "                   'epsilon',\n",
    "                   'loss',\n",
    "                   'framerate',\n",
    "                   'steps'\n",
    "               ])\n",
    "env.close()"
   ]
  },
  {
   "cell_type": "code",
   "execution_count": 8,
   "metadata": {
    "ExecuteTime": {
     "end_time": "2020-05-25T16:00:49.675777Z",
     "start_time": "2020-05-25T16:00:49.249989Z"
    },
    "scrolled": true
   },
   "outputs": [
    {
     "name": "stdout",
     "output_type": "stream",
     "text": [
      "INFO:tensorflow:Assets written to: pong_dqn/latest/assets\n"
     ]
    }
   ],
   "source": [
    "# Save the model and dump the history file\n",
    "agent.save_model(join(EXPERIMENT_FOLDER, 'latest'))\n",
    "\n",
    "# Save history file\n",
    "from dqn import save_history\n",
    "save_history(history, join(EXPERIMENT_FOLDER, 'history.json'))"
   ]
  },
  {
   "cell_type": "markdown",
   "metadata": {},
   "source": [
    "## Pre-trained agent\n",
    "### Checking history\n",
    "Since training can take up to 8 hours on average GPUs, we have pre-trained a Pong agents that you can load and experiment with. You can check the history of the training process by loading up the history with the following code."
   ]
  },
  {
   "cell_type": "code",
   "execution_count": 2,
   "metadata": {
    "ExecuteTime": {
     "end_time": "2020-06-25T13:28:34.165855Z",
     "start_time": "2020-06-25T13:28:33.226220Z"
    }
   },
   "outputs": [
    {
     "name": "stdout",
     "output_type": "stream",
     "text": [
      "dict_keys(['score', 'steps_per_game', 'framerate', 'runs', 'return', 'epsilon', 'loss', 'steps'])\n"
     ]
    },
    {
     "data": {
      "image/png": "[encoded data removed]",
      "text/plain": [
       "<Figure size 720x1080 with 3 Axes>"
      ]
     },
     "metadata": {
      "needs_background": "light"
     },
     "output_type": "display_data"
    }
   ],
   "source": [
    "from dqn import load_history, plot_history\n",
    "from os.path import join\n",
    "\n",
    "EXPERIMENT_FOLDER = 'Experiments/pong_dqn'\n",
    "history = load_history(join(EXPERIMENT_FOLDER, 'history.json'))\n",
    "print(history.keys())\n",
    "plot_history(history, ['score', 'steps_per_game', 'loss'])"
   ]
  },
  {
   "cell_type": "markdown",
   "metadata": {},
   "source": [
    "### To load the agent and play the game"
   ]
  },
  {
   "cell_type": "markdown",
   "metadata": {},
   "source": [
    "- Set the experiment folder to the ```EXPERIMENT_FOLDER``` variable\n",
    "- Create the environment\n",
    "- Create a instance of a network.\n",
    "- Load the weights with ```q_network.load(path)```\n",
    "- Create an agent ```EpsilonGreedyAgent(network=q_network)```\n",
    "- Remember to set ``````EpsilonGreedyAgent(start_epsilon=0.02)`````` to a small value, to ensure exploration."
   ]
  },
  {
   "cell_type": "code",
   "execution_count": 3,
   "metadata": {
    "ExecuteTime": {
     "end_time": "2020-06-25T13:28:52.721893Z",
     "start_time": "2020-06-25T13:28:51.049717Z"
    },
    "scrolled": false
   },
   "outputs": [],
   "source": [
    "from os.path import join\n",
    "\n",
    "import gym\n",
    "\n",
    "from dqn import EpsilonGreedyAgent, DeepQNetwork\n",
    "from env_wrappers import AtariFrameStack\n",
    "\n",
    "EXPERIMENT_FOLDER = 'Experiments/pong_dqn'\n",
    "\n",
    "env = AtariFrameStack(gym.make('PongNoFrameskip-v4'))\n",
    "q_network = DeepQNetwork(state_shape=env.observation_space.shape,\n",
    "                         n_actions=env.action_space.n)\n",
    "# Load the network\n",
    "q_network.load(join(EXPERIMENT_FOLDER, 'latest'))\n",
    "\n",
    "agent = EpsilonGreedyAgent(n_actions=env.action_space.n, network=q_network, start_epsilon=0.02)"
   ]
  },
  {
   "cell_type": "markdown",
   "metadata": {},
   "source": [
    "### Let the agent play and record the video"
   ]
  },
  {
   "cell_type": "code",
   "execution_count": 4,
   "metadata": {
    "ExecuteTime": {
     "end_time": "2020-06-25T13:29:02.540126Z",
     "start_time": "2020-06-25T13:28:55.480438Z"
    }
   },
   "outputs": [
    {
     "name": "stdout",
     "output_type": "stream",
     "text": [
      "{'score': 19.0, 'steps_per_game': 1857, 'framerate': 263.61016122653547, 'runs': 0, 'return': 0, 'epsilon': 0.02, 'loss': 0, 'steps': 0}\n"
     ]
    }
   ],
   "source": [
    "from dqn import run_episode\n",
    "\n",
    "video_path = join(EXPERIMENT_FOLDER, 'videos')\n",
    "                  \n",
    "env = gym.wrappers.Monitor(env, video_path, force=True)\n",
    "print(run_episode(env, agent, train=False))\n",
    "env.close()"
   ]
  },
  {
   "cell_type": "code",
   "execution_count": 5,
   "metadata": {
    "ExecuteTime": {
     "end_time": "2020-06-25T13:29:05.037467Z",
     "start_time": "2020-06-25T13:29:05.033269Z"
    }
   },
   "outputs": [
    {
     "data": {
      "text/html": [
       "<video src=\"Experiments/pong_dqn/videos/openaigym.video.0.9248.video000000.mp4\" controls  >\n",
       "      Your browser does not support the <code>video</code> element.\n",
       "    </video>"
      ],
      "text/plain": [
       "<IPython.core.display.Video object>"
      ]
     },
     "execution_count": 5,
     "metadata": {},
     "output_type": "execute_result"
    }
   ],
   "source": [
    "from IPython.display import Video\n",
    "import os\n",
    "\n",
    "# take the last element in the folder with .mp4 extension\n",
    "video_name = [x for x in os.listdir(video_path) if '.mp4' in x][-1]\n",
    "Video(os.path.join(video_path, video_name))"
   ]
  },
  {
   "cell_type": "markdown",
   "metadata": {},
   "source": [
    "### Training progress\n",
    "Here is couple of videos that were captured during the training process."
   ]
  },
  {
   "cell_type": "markdown",
   "metadata": {
    "ExecuteTime": {
     "end_time": "2020-05-28T12:31:11.810026Z",
     "start_time": "2020-05-28T12:31:11.806745Z"
    },
    "code_folding": []
   },
   "source": [
    "#### 1000 episodes, Reward: -12"
   ]
  },
  {
   "cell_type": "code",
   "execution_count": 6,
   "metadata": {
    "ExecuteTime": {
     "end_time": "2020-06-25T13:29:12.047757Z",
     "start_time": "2020-06-25T13:29:12.044652Z"
    },
    "scrolled": true
   },
   "outputs": [
    {
     "data": {
      "text/html": [
       "<video src=\"GIF/dqn_pong_-12.mp4\" controls  >\n",
       "      Your browser does not support the <code>video</code> element.\n",
       "    </video>"
      ],
      "text/plain": [
       "<IPython.core.display.Video object>"
      ]
     },
     "execution_count": 6,
     "metadata": {},
     "output_type": "execute_result"
    }
   ],
   "source": [
    "from IPython.display import Video\n",
    "Video(\"GIF/dqn_pong_-12.mp4\")"
   ]
  },
  {
   "cell_type": "markdown",
   "metadata": {
    "ExecuteTime": {
     "end_time": "2020-05-28T12:31:11.810026Z",
     "start_time": "2020-05-28T12:31:11.806745Z"
    },
    "code_folding": []
   },
   "source": [
    "### 2000 episodes, Reward: -3"
   ]
  },
  {
   "cell_type": "code",
   "execution_count": 22,
   "metadata": {
    "ExecuteTime": {
     "end_time": "2020-06-04T11:42:55.557785Z",
     "start_time": "2020-06-04T11:42:55.526636Z"
    }
   },
   "outputs": [
    {
     "data": {
      "text/html": [
       "<video src=\"GIF/pong_dqn_-3.mp4\" controls  >\n",
       "      Your browser does not support the <code>video</code> element.\n",
       "    </video>"
      ],
      "text/plain": [
       "<IPython.core.display.Video object>"
      ]
     },
     "execution_count": 22,
     "metadata": {},
     "output_type": "execute_result"
    }
   ],
   "source": [
    "from IPython.display import Video\n",
    "Video(\"GIF/pong_dqn_-3.mp4\")"
   ]
  },
  {
   "cell_type": "markdown",
   "metadata": {
    "ExecuteTime": {
     "end_time": "2020-05-28T12:31:11.810026Z",
     "start_time": "2020-05-28T12:31:11.806745Z"
    },
    "code_folding": []
   },
   "source": [
    "### 2500 episodes, Reward: 18"
   ]
  },
  {
   "cell_type": "code",
   "execution_count": 8,
   "metadata": {},
   "outputs": [
    {
     "data": {
      "text/html": [
       "<video src=\"GIF/dqn_pong_18.mp4\" controls  >\n",
       "      Your browser does not support the <code>video</code> element.\n",
       "    </video>"
      ],
      "text/plain": [
       "<IPython.core.display.Video object>"
      ]
     },
     "execution_count": 8,
     "metadata": {},
     "output_type": "execute_result"
    }
   ],
   "source": [
    "Video(\"GIF/dqn_pong_18.mp4\")"
   ]
  },
  {
   "cell_type": "markdown",
   "metadata": {},
   "source": [
    "# Assigment\n",
    "\n",
    "If you've solved Pong you're ready to go to the next game: Breakout. Train your own DQN to play Breakout.\n",
    "\n",
    "# References\n",
    "\n",
    "[1] Richard Sutton & Andrew Barto, Reinforcement Learning – An Introduction, november 2018\n"
   ]
  }
 ],
 "metadata": {
  "kernelspec": {
   "display_name": "Python 3",
   "language": "python",
   "name": "python3"
  },
  "language_info": {
   "codemirror_mode": {
    "name": "ipython",
    "version": 3
   },
   "file_extension": ".py",
   "mimetype": "text/x-python",
   "name": "python",
   "nbconvert_exporter": "python",
   "pygments_lexer": "ipython3",
   "version": "3.8.3"
  },
  "toc": {
   "base_numbering": 1,
   "nav_menu": {},
   "number_sections": true,
   "sideBar": true,
   "skip_h1_title": false,
   "title_cell": "Table of Contents",
   "title_sidebar": "Contents",
   "toc_cell": false,
   "toc_position": {},
   "toc_section_display": true,
   "toc_window_display": false
  },
  "varInspector": {
   "cols": {
    "lenName": 16,
    "lenType": 16,
    "lenVar": 40
   },
   "kernels_config": {
    "python": {
     "delete_cmd_postfix": "",
     "delete_cmd_prefix": "del ",
     "library": "var_list.py",
     "varRefreshCmd": "print(var_dic_list())"
    },
    "r": {
     "delete_cmd_postfix": ") ",
     "delete_cmd_prefix": "rm(",
     "library": "var_list.r",
     "varRefreshCmd": "cat(var_dic_list()) "
    }
   },
   "types_to_exclude": [
    "module",
    "function",
    "builtin_function_or_method",
    "instance",
    "_Feature"
   ],
   "window_display": false
  }
 },
 "nbformat": 4,
 "nbformat_minor": 2
}
